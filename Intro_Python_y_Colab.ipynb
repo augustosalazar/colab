{
  "nbformat": 4,
  "nbformat_minor": 0,
  "metadata": {
    "colab": {
      "provenance": []
    },
    "kernelspec": {
      "name": "python3",
      "display_name": "Python 3"
    },
    "language_info": {
      "name": "python"
    }
  },
  "cells": [
    {
      "cell_type": "markdown",
      "source": [
        "# **Primer Cuaderno de Google Colab**\n",
        "\n",
        "En estos cuardernos pueden combinar celdas de texto con celdas de código Python.\n",
        "La celda con texto puede ser editada para escribir como si estuvieran en\n",
        "\n",
        "*   Microsft Word o cualquier editor de texto.\n",
        "*   Las celdas con código DEBEN contener únicamente código de Python. Colab está constantemente verificando que lo escrito en código tenga una sintáxis correcta, o sea que siga las reglas de Python. Así como el Español, Python es un lenguaje que tiene reglas y deben cumplirse.\n",
        "\n",
        "\n",
        "\n"
      ],
      "metadata": {
        "id": "Uamja_2PZZ8Z"
      }
    },
    {
      "cell_type": "markdown",
      "source": [
        "# **Introduccion**\n",
        "\n",
        "Primer ejemplo con Python y manejo de variables"
      ],
      "metadata": {
        "id": "LX3il-uPvB94"
      }
    },
    {
      "cell_type": "code",
      "execution_count": null,
      "metadata": {
        "colab": {
          "base_uri": "https://localhost:8080/"
        },
        "id": "y1wrjqHysaR8",
        "outputId": "5a0b170f-1937-4c74-c015-05c01ccedd8d"
      },
      "outputs": [
        {
          "output_type": "stream",
          "name": "stdout",
          "text": [
            "A\n",
            "45\n",
            "miguel jimeno\n"
          ]
        }
      ],
      "source": [
        "print (\"A\")\n",
        "# Variables numéricas\n",
        "a = 30\n",
        "b = 15\n",
        "c = a + b;\n",
        "print (c)\n",
        "\n",
        "# Variables Booleanas (Verdadero y Falso)\n",
        "decision = True\n",
        "otraDecision = False\n",
        "\n",
        "# Esto que viene es variables que manejan cadenas de texto\n",
        "# Numeral para colocar en comentario una linea\n",
        "nombre = \"miguel\"\n",
        "apellido = \"jimeno\"\n",
        "\n",
        "cadena = nombre + \" \" + apellido\n",
        "print (cadena)"
      ]
    },
    {
      "cell_type": "markdown",
      "source": [
        "**Condicionales y Ciclo**\n",
        "Vamos a mostrar condicionales y ciclos, forma sencilla"
      ],
      "metadata": {
        "id": "zmOpkNMdvgSU"
      }
    },
    {
      "cell_type": "code",
      "source": [
        "decision = True\n",
        "nombre = \"Pedro González Méndez de las Marías\"\n",
        "\n",
        "if decision == True:\n",
        "  print (\"Es verdadero\")\n",
        "else:\n",
        "  print ('Es falso')\n",
        "\n",
        "if nombre == \"Pedro\":\n",
        "  print ('Si se llama Pedro')\n",
        "\n",
        "# El ciclo toma la variable \"nombre\" y la recorre asignándole\n",
        "# a \"x\" cada uno de los caracteres de la palabra guardada en la variable\n",
        "# Repite las líneas de código adentro del ciclo por cada una\n",
        "# de las letras en la palabra\n",
        "for x in nombre:\n",
        "  print (\"Escribiendo letras\")\n",
        "  print (x)"
      ],
      "metadata": {
        "colab": {
          "base_uri": "https://localhost:8080/"
        },
        "id": "4AGqDHHrwNd0",
        "outputId": "abdbd32a-6832-49bd-ad7e-18c95db6d65f"
      },
      "execution_count": null,
      "outputs": [
        {
          "output_type": "stream",
          "name": "stdout",
          "text": [
            "Es verdadero\n",
            "Escribiendo letras\n",
            "P\n",
            "Escribiendo letras\n",
            "e\n",
            "Escribiendo letras\n",
            "d\n",
            "Escribiendo letras\n",
            "r\n",
            "Escribiendo letras\n",
            "o\n",
            "Escribiendo letras\n",
            " \n",
            "Escribiendo letras\n",
            "G\n",
            "Escribiendo letras\n",
            "o\n",
            "Escribiendo letras\n",
            "n\n",
            "Escribiendo letras\n",
            "z\n",
            "Escribiendo letras\n",
            "á\n",
            "Escribiendo letras\n",
            "l\n",
            "Escribiendo letras\n",
            "e\n",
            "Escribiendo letras\n",
            "z\n",
            "Escribiendo letras\n",
            " \n",
            "Escribiendo letras\n",
            "M\n",
            "Escribiendo letras\n",
            "é\n",
            "Escribiendo letras\n",
            "n\n",
            "Escribiendo letras\n",
            "d\n",
            "Escribiendo letras\n",
            "e\n",
            "Escribiendo letras\n",
            "z\n",
            "Escribiendo letras\n",
            " \n",
            "Escribiendo letras\n",
            "d\n",
            "Escribiendo letras\n",
            "e\n",
            "Escribiendo letras\n",
            " \n",
            "Escribiendo letras\n",
            "l\n",
            "Escribiendo letras\n",
            "a\n",
            "Escribiendo letras\n",
            "s\n",
            "Escribiendo letras\n",
            " \n",
            "Escribiendo letras\n",
            "M\n",
            "Escribiendo letras\n",
            "a\n",
            "Escribiendo letras\n",
            "r\n",
            "Escribiendo letras\n",
            "í\n",
            "Escribiendo letras\n",
            "a\n",
            "Escribiendo letras\n",
            "s\n"
          ]
        }
      ]
    }
  ]
}